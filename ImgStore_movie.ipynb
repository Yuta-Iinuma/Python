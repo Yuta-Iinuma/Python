{
 "cells": [
  {
   "cell_type": "code",
   "execution_count": 62,
   "metadata": {},
   "outputs": [],
   "source": [
    "import openpyxl as px\n",
    "import requests\n",
    "from bs4 import BeautifulSoup\n",
    "import time\n",
    "import matplotlib.pyplot as plt\n",
    "import cv2\n",
    "import re\n",
    "from pathlib import Path\n",
    "import chromedriver_binary \n",
    "from selenium import webdriver\n",
    "from selenium.webdriver.chrome.options import Options\n",
    "# from selenium.webdriver.support.ui import WebDriverWait\n",
    "# from selenium.webdriver.support import expected_conditions as EC\n",
    "# from selenium.webdriver.common.by import By\n",
    "\n",
    "input_file_name = '../../Desktop/Web制作/movie/moviePy.xlsx'\n",
    "import_book = px.load_workbook(input_file_name)\n",
    "import_sheet = import_book['Sheet1']\n",
    "\n",
    "url = []\n",
    "for cells in tuple(import_sheet.columns):\n",
    "        for cell in cells:\n",
    "            url.append(cell.value)\n",
    "\n",
    "headers = {\n",
    "    \"User-Agent\": \"Mozilla/5.0 (Macintosh; Intel Mac OS X 10_13_6) AppleWebKit/537.36 (KHTML, like Gecko) Chrome/69.0.3497.100 Safari/537.36\",\n",
    "    \"Accept\": \"text/html,application/xhtml+xml,application/xml;q=0.9,image/webp,image/apng,*/*;q=0.8\",\n",
    "}\n",
    "\n",
    "user_agent = \"Mozilla/5.0 (Macintosh; Intel Mac OS X 10_15_7) AppleWebKit/537.36 (KHTML, like Gecko) Chrome/91.0.4472.77 Safari/537.36\"\n",
    "\n",
    "session = requests.Session()"
   ]
  },
  {
   "cell_type": "code",
   "execution_count": 63,
   "metadata": {},
   "outputs": [],
   "source": [
    "def img_store(path):\n",
    "       img = requests.get(path).content\n",
    "\n",
    "       with open(store_path,\"wb\") as f:\n",
    "            f.write(img)\n",
    "                \n",
    "       img_local = cv2.cvtColor(cv2.imread(store_path), cv2.COLOR_BGR2RGB)\n",
    "        \n",
    "       plt.imshow(img_local)\n",
    "       plt.show()"
   ]
  },
  {
   "cell_type": "code",
   "execution_count": 64,
   "metadata": {},
   "outputs": [],
   "source": [
    "def StoreImg(input):\n",
    "    output_folder = Path('../../Desktop/movie_img')\n",
    "\n",
    "    title = input.find(class_=\"title\")\n",
    "    time.sleep(2)\n",
    "\n",
    "    k = input.find(class_='movie-photo')\n",
    "    time.sleep(2)\n",
    "    top_img = k.find(\"img\", class_=\"lazyloaded\").get(\"src\")\n",
    "\n",
    "    filename = title.text + '.jpg'\n",
    "    save_path = output_folder.joinpath(filename)\n",
    "    time.sleep(2)\n",
    "\n",
    "    try:\n",
    "        image = session.get(top_img, headers=headers)\n",
    "        open(save_path, 'wb').write(image.content)\n",
    "        time.sleep(2)\n",
    "\n",
    "    except ValueError:\n",
    "        print(\"ValueError!\")"
   ]
  },
  {
   "cell_type": "code",
   "execution_count": 66,
   "metadata": {},
   "outputs": [
    {
     "name": "stdout",
     "output_type": "stream",
     "text": [
      "24\n",
      "25\n",
      "26\n",
      "27\n",
      "28\n",
      "29\n",
      "30\n",
      "31\n",
      "32\n",
      "33\n",
      "34\n",
      "35\n",
      "36\n",
      "end\n"
     ]
    }
   ],
   "source": [
    "base_url = 'https://eiga.com'\n",
    "for index in range(24,len(url)):\n",
    "    req = session.get(url[index], headers=headers)\n",
    "    time.sleep(2)\n",
    "    soup = BeautifulSoup(req.text, \"html.parser\")\n",
    "    time.sleep(2)\n",
    "\n",
    "    next_page = soup.find(class_='poster-img').find('a').get('href')\n",
    "    time.sleep(2)\n",
    "    next_url = base_url + next_page\n",
    "\n",
    "    options = Options()\n",
    "    options.add_argument('--headless')\n",
    "    options.add_argument(\"--user-agent=\" + user_agent)\n",
    "    driver = webdriver.Chrome(options=options)\n",
    "\n",
    "    driver.implicitly_wait(10)\n",
    "    driver.get(next_url)\n",
    "    driver.find_element_by_class_name(\"lazyloaded\")\n",
    "\n",
    "    # ページのHTMLを取得\n",
    "    html = driver.page_source\n",
    "    # ブラウザの終了\n",
    "    driver.close()\n",
    "    time.sleep(2)\n",
    "\n",
    "    soup2 = BeautifulSoup(html, \"html.parser\")\n",
    "    time.sleep(2)\n",
    "\n",
    "    StoreImg(soup2)\n",
    "    print(index)\n",
    "    time.sleep(2)\n",
    "\n",
    "print('end')"
   ]
  },
  {
   "cell_type": "code",
   "execution_count": null,
   "metadata": {},
   "outputs": [],
   "source": []
  },
  {
   "cell_type": "code",
   "execution_count": null,
   "metadata": {},
   "outputs": [],
   "source": []
  }
 ],
 "metadata": {
  "kernelspec": {
   "display_name": "Python 3",
   "language": "python",
   "name": "python3"
  },
  "language_info": {
   "codemirror_mode": {
    "name": "ipython",
    "version": 3
   },
   "file_extension": ".py",
   "mimetype": "text/x-python",
   "name": "python",
   "nbconvert_exporter": "python",
   "pygments_lexer": "ipython3",
   "version": "3.8.5"
  }
 },
 "nbformat": 4,
 "nbformat_minor": 4
}
