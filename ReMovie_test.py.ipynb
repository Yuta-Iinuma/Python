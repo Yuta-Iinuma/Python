{
 "cells": [
  {
   "cell_type": "code",
   "execution_count": 1,
   "metadata": {},
   "outputs": [],
   "source": [
    "import openpyxl as px\n",
    "import requests\n",
    "from bs4 import BeautifulSoup\n",
    "import time"
   ]
  },
  {
   "cell_type": "code",
   "execution_count": 2,
   "metadata": {},
   "outputs": [],
   "source": [
    "input_file_name = '../../Desktop/Web制作/movie/moviePy.xlsx'\n",
    "import_book = px.load_workbook(input_file_name)\n",
    "import_sheet = import_book['Sheet1']\n",
    "\n",
    "url = []\n",
    "for cells in tuple(import_sheet.columns):\n",
    "        for cell in cells:\n",
    "            url.append(cell.value)"
   ]
  },
  {
   "cell_type": "code",
   "execution_count": 3,
   "metadata": {},
   "outputs": [],
   "source": [
    "def data_content(soup): \n",
    "        d = soup.find(class_=\"data\")\n",
    "        time.sleep(2) \n",
    "        for i in d.select(\"br\"):\n",
    "            i.replace_with('\\n')\n",
    "            time.sleep(2) \n",
    "\n",
    "        data =[]\n",
    "        for index in d:\n",
    "            if index != '\\n':\n",
    "                data.append(index)\n",
    "        return data "
   ]
  },
  {
   "cell_type": "code",
   "execution_count": 4,
   "metadata": {},
   "outputs": [],
   "source": [
    "def staff_content(soup): \n",
    "        staff = []\n",
    "        ms = soup.find('dl', class_='movie-staff')\n",
    "        time.sleep(2) \n",
    "\n",
    "        for tag in ms.find_all(['dd' ,'dt']):\n",
    "            staff.append(tag.text)\n",
    "            time.sleep(2) \n",
    "        return staff"
   ]
  },
  {
   "cell_type": "code",
   "execution_count": 5,
   "metadata": {},
   "outputs": [],
   "source": [
    "def cast_content(soup): \n",
    "        cast = []\n",
    "        mc = soup.find('ul', class_='movie-cast')\n",
    "        time.sleep(2) \n",
    "\n",
    "        for tag in mc.find_all(['small','span']):\n",
    "            cast.append(tag.text)\n",
    "            time.sleep(2) \n",
    "        return cast"
   ]
  },
  {
   "cell_type": "code",
   "execution_count": 6,
   "metadata": {},
   "outputs": [
    {
     "name": "stdout",
     "output_type": "stream",
     "text": [
      "2\n",
      "3\n",
      "4\n",
      "5\n",
      "6\n",
      "7\n",
      "8\n",
      "9\n",
      "10\n",
      "11\n",
      "12\n",
      "13\n",
      "14\n",
      "15\n",
      "16\n",
      "17\n",
      "18\n",
      "19\n",
      "20\n",
      "21\n",
      "22\n",
      "23\n",
      "24\n",
      "25\n",
      "26\n",
      "27\n",
      "28\n",
      "29\n",
      "30\n",
      "31\n",
      "32\n",
      "33\n",
      "34\n",
      "35\n",
      "36\n",
      "37\n",
      "38\n",
      "end\n"
     ]
    }
   ],
   "source": [
    "num=1\n",
    "k=0\n",
    "\n",
    "output_file_name = '../../Desktop/Web制作/movie/scraping.xlsx'\n",
    "wb = px.load_workbook(output_file_name)\n",
    "ws = wb['Sheet2']\n",
    "\n",
    "for index in range(len(url)):\n",
    "    flag=0\n",
    "    html = requests.get(url[index])\n",
    "    soup = BeautifulSoup(html.content, \"html.parser\")\n",
    "\n",
    "    title = soup.find(class_=\"page-title\")\n",
    "    k = 1+flag    \n",
    "    ws.cell(row=num,column=k).value = title.text\n",
    "\n",
    "    data = data_content(soup)\n",
    "    k += 1\n",
    "    for tag in range(len(data)):\n",
    "        ws.cell(row=num,column=tag+k).value = data[tag]\n",
    "\n",
    "    flag= len(data)\n",
    "    # print(flag)\n",
    "    # print(k)\n",
    "\n",
    "    staff = staff_content(soup)\n",
    "    # print(staff)\n",
    "    k =flag +k\n",
    "    for tag2 in range(len(staff)):\n",
    "        ws.cell(row=num,column=tag2+k).value = staff[tag2]\n",
    "\n",
    "    flag= len(staff)\n",
    "\n",
    "    cast = cast_content(soup)\n",
    "    k =flag +k\n",
    "    for tag3 in range(len(cast)):\n",
    "        ws.cell(row=num,column=tag3+k).value = cast[tag3]\n",
    "\n",
    "    num += 1\n",
    "    time.sleep(2) \n",
    "    print(num)\n",
    "    wb.save(output_file_name)\n",
    "    \n",
    "print('end')"
   ]
  },
  {
   "cell_type": "code",
   "execution_count": null,
   "metadata": {},
   "outputs": [],
   "source": []
  }
 ],
 "metadata": {
  "kernelspec": {
   "display_name": "Python 3",
   "language": "python",
   "name": "python3"
  },
  "language_info": {
   "codemirror_mode": {
    "name": "ipython",
    "version": 3
   },
   "file_extension": ".py",
   "mimetype": "text/x-python",
   "name": "python",
   "nbconvert_exporter": "python",
   "pygments_lexer": "ipython3",
   "version": "3.8.5"
  }
 },
 "nbformat": 4,
 "nbformat_minor": 4
}
